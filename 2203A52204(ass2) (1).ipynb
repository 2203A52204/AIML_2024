{
  "nbformat": 4,
  "nbformat_minor": 0,
  "metadata": {
    "colab": {
      "provenance": []
    },
    "kernelspec": {
      "name": "python3",
      "display_name": "Python 3"
    },
    "language_info": {
      "name": "python"
    }
  },
  "cells": [
    {
      "cell_type": "code",
      "execution_count": 5,
      "metadata": {
        "colab": {
          "base_uri": "https://localhost:8080/"
        },
        "id": "kDLOf3zYgYwN",
        "outputId": "f739fa9a-a97d-4be4-8348-14564fa8625d"
      },
      "outputs": [
        {
          "output_type": "stream",
          "name": "stdout",
          "text": [
            "0\n",
            "1\n",
            "3\n",
            "2\n",
            "4\n",
            "5\n"
          ]
        }
      ],
      "source": [
        "from collections import deque\n",
        "def bfs(graph, start):\n",
        "  visited=set()\n",
        "  queue=deque([start])\n",
        "  while queue:\n",
        "     vertex=queue.popleft()\n",
        "     if vertex not in visited:\n",
        "        visited.add(vertex)\n",
        "        print(vertex)\n",
        "        queue.extend(graph[vertex]-visited)\n",
        "graph = {\n",
        "     0: set([1,3]),\n",
        "     1: set([0,2,3]),\n",
        "     2: set([1,4,5]),\n",
        "     3: set([0,1,4]),\n",
        "     4: set([2,3,5]),\n",
        "     5: set([2,4])\n",
        "}\n",
        "bfs(graph,0)"
      ]
    }
  ]
}