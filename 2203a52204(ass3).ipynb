{
  "nbformat": 4,
  "nbformat_minor": 0,
  "metadata": {
    "colab": {
      "provenance": []
    },
    "kernelspec": {
      "name": "python3",
      "display_name": "Python 3"
    },
    "language_info": {
      "name": "python"
    }
  },
  "cells": [
    {
      "cell_type": "code",
      "execution_count": 7,
      "metadata": {
        "id": "7nvHezumhlP6",
        "colab": {
          "base_uri": "https://localhost:8080/"
        },
        "outputId": "16095a74-160c-41ad-b5b9-8cedaaf64a2a"
      },
      "outputs": [
        {
          "output_type": "stream",
          "name": "stdout",
          "text": [
            "   age  height\n",
            "0   12     115\n",
            "1   13     130\n",
            "2   46     167\n",
            "3   20     145\n",
            "4   34     153\n",
            "   age  height\n",
            "0   12     115\n",
            "1   13     130\n",
            "2   46     167\n",
            "3   20     145\n",
            "4   34     153\n",
            "   age  height\n",
            "0   12     115\n",
            "1   13     130\n",
            "2   46     167\n",
            "3   20     145\n",
            "4   34     153\n"
          ]
        },
        {
          "output_type": "stream",
          "name": "stderr",
          "text": [
            "<ipython-input-7-d80f9effd18c>:9: FutureWarning: In a future version of pandas all arguments of read_csv except for the argument 'filepath_or_buffer' will be keyword-only.\n",
            "  df_url = pd.read_csv(url,'\\t')\n"
          ]
        },
        {
          "output_type": "stream",
          "name": "stdout",
          "text": [
            "                                        <!DOCTYPE html>\n",
            "0                                                 <html\n",
            "1                                             lang=\"en\"\n",
            "2       data-color-mode=\"auto\" data-light-theme=\"lig...\n",
            "3       data-a11y-animated-images=\"system\" data-a11y...\n",
            "4                                                     >\n",
            "...                                                 ...\n",
            "1263                                             </div>\n",
            "1264      <div id=\"js-global-screen-reader-notice\" c...\n",
            "1265      <div id=\"js-global-screen-reader-notice-as...\n",
            "1266                                            </body>\n",
            "1267                                            </html>\n",
            "\n",
            "[1268 rows x 1 columns]\n"
          ]
        }
      ],
      "source": [
        "import pandas as pd\n",
        "df_tsv = pd.read_csv('/content/2203A52204 - Sheet1.tsv', sep='\\t')\n",
        "print(df_tsv)\n",
        "df_csv = pd.read_csv('/content/2203A52204 - Sheet1.csv')\n",
        "print(df_csv)\n",
        "df_xlsx = pd.read_excel(\"/content/2203A52204.xlsx\")\n",
        "print(df_xlsx)\n",
        "url = \"https://github.com/2203A52204/aiml_ass3\"\n",
        "df_url = pd.read_csv(url,'\\t')\n",
        "print(df_url)"
      ]
    }
  ]
}