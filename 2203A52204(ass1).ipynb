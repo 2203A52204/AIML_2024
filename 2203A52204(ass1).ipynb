{
  "nbformat": 4,
  "nbformat_minor": 0,
  "metadata": {
    "colab": {
      "provenance": []
    },
    "kernelspec": {
      "name": "python3",
      "display_name": "Python 3"
    },
    "language_info": {
      "name": "python"
    }
  },
  "cells": [
    {
      "cell_type": "code",
      "execution_count": 1,
      "metadata": {
        "colab": {
          "base_uri": "https://localhost:8080/"
        },
        "id": "bZWaPourYZ78",
        "outputId": "1b08dccf-69df-42e5-abec-d30dc418f530"
      },
      "outputs": [
        {
          "output_type": "stream",
          "name": "stdout",
          "text": [
            "list: [1, 2, 3, 4]\n",
            "array: [1 2 3 4]\n"
          ]
        },
        {
          "output_type": "execute_result",
          "data": {
            "text/plain": [
              "numpy.ndarray"
            ]
          },
          "metadata": {},
          "execution_count": 1
        }
      ],
      "source": [
        "import numpy as np\n",
        "l1=[1,2,3,4]\n",
        "array1=np.array(l1)\n",
        "print(\"list:\",l1)\n",
        "print(\"array:\",array1)\n",
        "type(l1)\n",
        "type(array1)\n"
      ]
    },
    {
      "cell_type": "code",
      "source": [
        "a = np.array([2, 4, 6, 8])\n",
        "b =np.array([1, 2, 3, 4])\n",
        "multiply = np.multiply(a,b)\n",
        "print(\"Multiplication:\", multiply)\n",
        "divide = np.divide(a,b)\n",
        "print(\"Division:\", divide)\n",
        "power = np.power(a,b)\n",
        "print(\"Power:\", power)"
      ],
      "metadata": {
        "colab": {
          "base_uri": "https://localhost:8080/"
        },
        "id": "xDYbSYmBZus9",
        "outputId": "1648771f-c3f0-4758-ddcb-eacd9c46283a"
      },
      "execution_count": 7,
      "outputs": [
        {
          "output_type": "stream",
          "name": "stdout",
          "text": [
            "Multiplication: [ 2  8 18 32]\n",
            "Division: [2. 2. 2. 2.]\n",
            "Power: [   2   16  216 4096]\n"
          ]
        }
      ]
    },
    {
      "cell_type": "code",
      "source": [
        "add=np.add(a,b)\n",
        "print(\"addition of two:\",add)"
      ],
      "metadata": {
        "colab": {
          "base_uri": "https://localhost:8080/"
        },
        "id": "5p8v_AvCcxzG",
        "outputId": "7bb3449e-0b2c-4016-f787-d9dff22085c9"
      },
      "execution_count": 8,
      "outputs": [
        {
          "output_type": "stream",
          "name": "stdout",
          "text": [
            "addition of two: [ 3  6  9 12]\n"
          ]
        }
      ]
    },
    {
      "cell_type": "code",
      "source": [
        "arr = np.array([1, 2, 3, 4])\n",
        "result_exp = np.exp(arr)\n",
        "print(\"Exponential:\", result_exp)\n",
        "result_log = np.log(arr)\n",
        "print(\"Natural Logarithm:\", result_log)\n",
        "result_sin = np.sin(arr)\n",
        "print(\"Sine:\", result_sin)\n",
        "result_log2 = np.log2(arr)\n",
        "print(\"Base-2 Logarithm:\", result_log2)"
      ],
      "metadata": {
        "colab": {
          "base_uri": "https://localhost:8080/"
        },
        "id": "muWeu7e3dLEz",
        "outputId": "48c30bff-f77a-4d2b-9c6b-ddf6d8396049"
      },
      "execution_count": 13,
      "outputs": [
        {
          "output_type": "stream",
          "name": "stdout",
          "text": [
            "Exponential: [ 2.71828183  7.3890561  20.08553692 54.59815003]\n",
            "Natural Logarithm: [0.         0.69314718 1.09861229 1.38629436]\n",
            "Sine: [ 0.84147098  0.90929743  0.14112001 -0.7568025 ]\n",
            "Base-2 Logarithm: [0.        1.        1.5849625 2.       ]\n"
          ]
        }
      ]
    }
  ]
}